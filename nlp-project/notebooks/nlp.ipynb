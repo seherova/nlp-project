{
 "cells": [
  {
   "cell_type": "code",
   "execution_count": 40,
   "id": "8ef5dcb6-71e2-4bd7-8e93-958a4d38fdc2",
   "metadata": {},
   "outputs": [
    {
     "name": "stdout",
     "output_type": "stream",
     "text": [
      "Requirement already satisfied: nltk in /Users/seherova/Documents/nlp-project/venv/lib/python3.9/site-packages (3.9.1)\n",
      "Requirement already satisfied: tqdm in /Users/seherova/Documents/nlp-project/venv/lib/python3.9/site-packages (from nltk) (4.67.1)\n",
      "Requirement already satisfied: click in /Users/seherova/Documents/nlp-project/venv/lib/python3.9/site-packages (from nltk) (8.1.8)\n",
      "Requirement already satisfied: regex>=2021.8.3 in /Users/seherova/Documents/nlp-project/venv/lib/python3.9/site-packages (from nltk) (2024.11.6)\n",
      "Requirement already satisfied: joblib in /Users/seherova/Documents/nlp-project/venv/lib/python3.9/site-packages (from nltk) (1.4.2)\n",
      "\n",
      "\u001b[1m[\u001b[0m\u001b[34;49mnotice\u001b[0m\u001b[1;39;49m]\u001b[0m\u001b[39;49m A new release of pip available: \u001b[0m\u001b[31;49m22.3.1\u001b[0m\u001b[39;49m -> \u001b[0m\u001b[32;49m25.0.1\u001b[0m\n",
      "\u001b[1m[\u001b[0m\u001b[34;49mnotice\u001b[0m\u001b[1;39;49m]\u001b[0m\u001b[39;49m To update, run: \u001b[0m\u001b[32;49mpip install --upgrade pip\u001b[0m\n"
     ]
    }
   ],
   "source": [
    "!pip install nltk"
   ]
  },
  {
   "cell_type": "code",
   "execution_count": 57,
   "id": "be284228-bb06-414b-9edb-0e2c132097f0",
   "metadata": {},
   "outputs": [
    {
     "name": "stdout",
     "output_type": "stream",
     "text": [
      "Requirement already satisfied: pandas in /Users/seherova/Documents/nlp-project/venv/lib/python3.9/site-packages (2.2.3)\n",
      "Requirement already satisfied: pytz>=2020.1 in /Users/seherova/Documents/nlp-project/venv/lib/python3.9/site-packages (from pandas) (2025.2)\n",
      "Requirement already satisfied: numpy>=1.22.4 in /Users/seherova/Documents/nlp-project/venv/lib/python3.9/site-packages (from pandas) (2.0.2)\n",
      "Requirement already satisfied: python-dateutil>=2.8.2 in /Users/seherova/Documents/nlp-project/venv/lib/python3.9/site-packages (from pandas) (2.9.0.post0)\n",
      "Requirement already satisfied: tzdata>=2022.7 in /Users/seherova/Documents/nlp-project/venv/lib/python3.9/site-packages (from pandas) (2025.2)\n",
      "Requirement already satisfied: six>=1.5 in /Users/seherova/Documents/nlp-project/venv/lib/python3.9/site-packages (from python-dateutil>=2.8.2->pandas) (1.17.0)\n",
      "\n",
      "\u001b[1m[\u001b[0m\u001b[34;49mnotice\u001b[0m\u001b[1;39;49m]\u001b[0m\u001b[39;49m A new release of pip available: \u001b[0m\u001b[31;49m22.3.1\u001b[0m\u001b[39;49m -> \u001b[0m\u001b[32;49m25.0.1\u001b[0m\n",
      "\u001b[1m[\u001b[0m\u001b[34;49mnotice\u001b[0m\u001b[1;39;49m]\u001b[0m\u001b[39;49m To update, run: \u001b[0m\u001b[32;49mpip install --upgrade pip\u001b[0m\n",
      "Note: you may need to restart the kernel to use updated packages.\n"
     ]
    }
   ],
   "source": [
    "%pip install pandas"
   ]
  },
  {
   "cell_type": "code",
   "execution_count": 58,
   "id": "ca62516a-44bc-416c-967a-2c8f9de0cc51",
   "metadata": {},
   "outputs": [],
   "source": [
    "import pandas as pd\n",
    "from pathlib import Path"
   ]
  },
  {
   "cell_type": "code",
   "execution_count": 59,
   "id": "d9e6d2cc-ec65-49a1-826d-f6714b74e001",
   "metadata": {},
   "outputs": [],
   "source": [
    "dataset_path = Path(\"/Users/seherova/Desktop/ai-project/news_dataset.csv\")"
   ]
  },
  {
   "cell_type": "code",
   "execution_count": 60,
   "id": "2dbf0eeb-021d-4c87-b18c-fbc1c940c946",
   "metadata": {},
   "outputs": [],
   "source": [
    "df = pd.read_csv(dataset_path)"
   ]
  },
  {
   "cell_type": "code",
   "execution_count": 61,
   "id": "981362cc-e8f8-4f15-b732-e94d26fb13e3",
   "metadata": {},
   "outputs": [
    {
     "data": {
      "text/html": [
       "<div>\n",
       "<style scoped>\n",
       "    .dataframe tbody tr th:only-of-type {\n",
       "        vertical-align: middle;\n",
       "    }\n",
       "\n",
       "    .dataframe tbody tr th {\n",
       "        vertical-align: top;\n",
       "    }\n",
       "\n",
       "    .dataframe thead th {\n",
       "        text-align: right;\n",
       "    }\n",
       "</style>\n",
       "<table border=\"1\" class=\"dataframe\">\n",
       "  <thead>\n",
       "    <tr style=\"text-align: right;\">\n",
       "      <th></th>\n",
       "      <th>title</th>\n",
       "      <th>description</th>\n",
       "      <th>content</th>\n",
       "      <th>category</th>\n",
       "    </tr>\n",
       "  </thead>\n",
       "  <tbody>\n",
       "    <tr>\n",
       "      <th>0</th>\n",
       "      <td>The Tech You Need to Level Up Your Humanity</td>\n",
       "      <td>Advancements in computing and robotics are cha...</td>\n",
       "      <td>Motion capture technology tracks movements in ...</td>\n",
       "      <td>technical</td>\n",
       "    </tr>\n",
       "    <tr>\n",
       "      <th>1</th>\n",
       "      <td>How Software Engineers Actually Use AI</td>\n",
       "      <td>We surveyed 730 coders and developers about ho...</td>\n",
       "      <td>Almost every coder we surveyed had strong opin...</td>\n",
       "      <td>technical</td>\n",
       "    </tr>\n",
       "    <tr>\n",
       "      <th>2</th>\n",
       "      <td>Amazon's AGI Lab Reveals Its First Work: Advan...</td>\n",
       "      <td>Led by a former OpenAI executive, Amazon’s AI ...</td>\n",
       "      <td>Amazon is still seen as a bit of a laggard in ...</td>\n",
       "      <td>technical</td>\n",
       "    </tr>\n",
       "    <tr>\n",
       "      <th>3</th>\n",
       "      <td>How Microsoft made it through 50 years</td>\n",
       "      <td>In 2005, Microsoftâs leaders were starting t...</td>\n",
       "      <td>How Microsoft made it through 50 years\\r\\nThe ...</td>\n",
       "      <td>technical</td>\n",
       "    </tr>\n",
       "    <tr>\n",
       "      <th>4</th>\n",
       "      <td>Logistics giant GXO is going big on humanoid r...</td>\n",
       "      <td>GXO is testing humanoid robots from Agility Ro...</td>\n",
       "      <td>Agility Robotics' Digit robot carries totes in...</td>\n",
       "      <td>technical</td>\n",
       "    </tr>\n",
       "    <tr>\n",
       "      <th>...</th>\n",
       "      <td>...</td>\n",
       "      <td>...</td>\n",
       "      <td>...</td>\n",
       "      <td>...</td>\n",
       "    </tr>\n",
       "    <tr>\n",
       "      <th>192</th>\n",
       "      <td>Musk and AI among biggest threats to brand rep...</td>\n",
       "      <td>Appraisal of international public affairs lead...</td>\n",
       "      <td>Associating with the Donald Trump administrati...</td>\n",
       "      <td>technical</td>\n",
       "    </tr>\n",
       "    <tr>\n",
       "      <th>193</th>\n",
       "      <td>Quebec says no special recruitment measures to...</td>\n",
       "      <td>MONTREAL — Quebec doesn't plan to create any s...</td>\n",
       "      <td>MONTREAL — Quebec doesn't plan to create any s...</td>\n",
       "      <td>medicine</td>\n",
       "    </tr>\n",
       "    <tr>\n",
       "      <th>194</th>\n",
       "      <td>Boy, 7, dies after woman 'sends poisoned Easte...</td>\n",
       "      <td>The child's mother and 13-year-old sister are ...</td>\n",
       "      <td>Our community members are treated to special o...</td>\n",
       "      <td>medicine</td>\n",
       "    </tr>\n",
       "    <tr>\n",
       "      <th>195</th>\n",
       "      <td>NDP wealth tax would raise $94.5B, pay for wor...</td>\n",
       "      <td>The party released its platform Saturday, pled...</td>\n",
       "      <td>The New Democratic Party is promising to raise...</td>\n",
       "      <td>medicine</td>\n",
       "    </tr>\n",
       "    <tr>\n",
       "      <th>196</th>\n",
       "      <td>Israeli strikes on Gaza kill more than 90 peop...</td>\n",
       "      <td>The dead include women and children sheltering...</td>\n",
       "      <td>ISRAELI STRIKES IN Gaza have killed more than ...</td>\n",
       "      <td>medicine</td>\n",
       "    </tr>\n",
       "  </tbody>\n",
       "</table>\n",
       "<p>197 rows × 4 columns</p>\n",
       "</div>"
      ],
      "text/plain": [
       "                                                 title  \\\n",
       "0          The Tech You Need to Level Up Your Humanity   \n",
       "1               How Software Engineers Actually Use AI   \n",
       "2    Amazon's AGI Lab Reveals Its First Work: Advan...   \n",
       "3               How Microsoft made it through 50 years   \n",
       "4    Logistics giant GXO is going big on humanoid r...   \n",
       "..                                                 ...   \n",
       "192  Musk and AI among biggest threats to brand rep...   \n",
       "193  Quebec says no special recruitment measures to...   \n",
       "194  Boy, 7, dies after woman 'sends poisoned Easte...   \n",
       "195  NDP wealth tax would raise $94.5B, pay for wor...   \n",
       "196  Israeli strikes on Gaza kill more than 90 peop...   \n",
       "\n",
       "                                           description  \\\n",
       "0    Advancements in computing and robotics are cha...   \n",
       "1    We surveyed 730 coders and developers about ho...   \n",
       "2    Led by a former OpenAI executive, Amazon’s AI ...   \n",
       "3    In 2005, Microsoftâs leaders were starting t...   \n",
       "4    GXO is testing humanoid robots from Agility Ro...   \n",
       "..                                                 ...   \n",
       "192  Appraisal of international public affairs lead...   \n",
       "193  MONTREAL — Quebec doesn't plan to create any s...   \n",
       "194  The child's mother and 13-year-old sister are ...   \n",
       "195  The party released its platform Saturday, pled...   \n",
       "196  The dead include women and children sheltering...   \n",
       "\n",
       "                                               content   category  \n",
       "0    Motion capture technology tracks movements in ...  technical  \n",
       "1    Almost every coder we surveyed had strong opin...  technical  \n",
       "2    Amazon is still seen as a bit of a laggard in ...  technical  \n",
       "3    How Microsoft made it through 50 years\\r\\nThe ...  technical  \n",
       "4    Agility Robotics' Digit robot carries totes in...  technical  \n",
       "..                                                 ...        ...  \n",
       "192  Associating with the Donald Trump administrati...  technical  \n",
       "193  MONTREAL — Quebec doesn't plan to create any s...   medicine  \n",
       "194  Our community members are treated to special o...   medicine  \n",
       "195  The New Democratic Party is promising to raise...   medicine  \n",
       "196  ISRAELI STRIKES IN Gaza have killed more than ...   medicine  \n",
       "\n",
       "[197 rows x 4 columns]"
      ]
     },
     "execution_count": 61,
     "metadata": {},
     "output_type": "execute_result"
    }
   ],
   "source": [
    "df"
   ]
  },
  {
   "cell_type": "code",
   "execution_count": 62,
   "id": "c3bc07ef-073b-46f4-ac10-d588e947d725",
   "metadata": {},
   "outputs": [
    {
     "name": "stdout",
     "output_type": "stream",
     "text": [
      "Index(['title', 'description', 'content', 'category'], dtype='object')\n"
     ]
    }
   ],
   "source": [
    "print(df.columns)"
   ]
  },
  {
   "cell_type": "code",
   "execution_count": 63,
   "id": "6e3817cd-03dd-4ab8-9c6d-ac16e6bdb1f1",
   "metadata": {},
   "outputs": [
    {
     "name": "stdout",
     "output_type": "stream",
     "text": [
      "(197, 4)\n"
     ]
    }
   ],
   "source": [
    "print(df.shape)"
   ]
  },
  {
   "cell_type": "code",
   "execution_count": 64,
   "id": "06a01a52-4d1f-4544-a928-ae04b2b733ac",
   "metadata": {},
   "outputs": [
    {
     "data": {
      "text/plain": [
       "category\n",
       "medicine     103\n",
       "technical     94\n",
       "Name: count, dtype: int64"
      ]
     },
     "execution_count": 64,
     "metadata": {},
     "output_type": "execute_result"
    }
   ],
   "source": [
    "df[\"category\"].value_counts()"
   ]
  },
  {
   "cell_type": "code",
   "execution_count": 65,
   "id": "cca414bd-5143-4a38-8edd-5fab4b14f1bb",
   "metadata": {},
   "outputs": [],
   "source": [
    "#  Mevcut 'title' başlıklarını al (tekrar eklentileri önlemek için)\n",
    "existing_titles = set(df['title'])\n"
   ]
  },
  {
   "cell_type": "code",
   "execution_count": 66,
   "id": "c49c52e6-409e-442b-bcd7-c14e00e44dad",
   "metadata": {},
   "outputs": [],
   "source": [
    "\n",
    "new_articles = [\n",
    "    {\n",
    "        \"title\": \"Breakthrough in Quantum Computing Stability\",\n",
    "        \"description\": \"MIT researchers unveil a novel error-correction method for qubits.\",\n",
    "        \"content\": (\n",
    "            \"In a paper published in Nature, scientists at MIT demonstrated a new \"\n",
    "            \"quantum error-correction protocol that extends qubit coherence times by 50%. \"\n",
    "            \"This advance could accelerate the development of scalable quantum processors.\"\n",
    "        ),\n",
    "        \"category\": \"technical\"\n",
    "    },\n",
    "    {\n",
    "        \"title\": \"AI-Powered Drone Navigation Breakthrough\",\n",
    "        \"description\": \"A new neural network enables drones to navigate complex environments autonomously.\",\n",
    "        \"content\": (\n",
    "            \"Engineers at Stanford have developed a deep-learning model that processes \"\n",
    "            \"real-time camera feeds to avoid obstacles with 98% accuracy. \"\n",
    "            \"Field tests in dense forests showed significant improvements over existing systems.\"\n",
    "        ),\n",
    "        \"category\": \"technical\"\n",
    "    },\n",
    "    {\n",
    "        \"title\": \"Next-Gen Battery Materials Promise Faster Charging\",\n",
    "        \"description\": \"Scientists identify a new lithium-silicon composite for EV batteries.\",\n",
    "        \"content\": (\n",
    "            \"A team at the University of Texas synthesized a silicon-anode material \"\n",
    "            \"that doubles the energy density and reduces charging time to under 15 minutes. \"\n",
    "            \"Initial automotive tests report stable performance over 1,000 cycles.\"\n",
    "        ),\n",
    "        \"category\": \"technical\"\n",
    "    },\n",
    "    {\n",
    "        \"title\": \"5G-Integrated IoT Sensors Revolutionize Smart Cities\",\n",
    "        \"description\": \"New tiny sensors leverage 5G for real-time urban monitoring.\",\n",
    "        \"content\": (\n",
    "            \"Researchers at Nokia Bell Labs introduced a family of ultra-low-power IoT \"\n",
    "            \"modules with built-in 5G modems. They demonstrated air-quality and \"\n",
    "            \"traffic monitoring in live city environments with millisecond latency.\"\n",
    "        ),\n",
    "        \"category\": \"technical\"\n",
    "    },\n",
    "    {\n",
    "        \"title\": \"Breakthrough in Photonic Neural Networks\",\n",
    "        \"description\": \"Photonic chips perform AI inference at terahertz speeds.\",\n",
    "        \"content\": (\n",
    "            \"A collaboration between IBM and Caltech produced an optical neural accelerator \"\n",
    "            \"that achieves 1,000× higher throughput than GPU-based inference engines. \"\n",
    "            \"The chip uses silicon photonics to carry out matrix multiplications with light.\"\n",
    "        ),\n",
    "        \"category\": \"technical\"\n",
    "    },\n",
    "    {\n",
    "        \"title\": \"Autonomous Underwater Robots for Deep-Sea Exploration\",\n",
    "        \"description\": \"New AUVs map the ocean floor with unprecedented resolution.\",\n",
    "        \"content\": (\n",
    "            \"OceanX and MIT jointly developed autonomous underwater vehicles equipped \"\n",
    "            \"with advanced sonar and machine-learning navigation. In trials off the \"\n",
    "            \"Galápagos Islands, they produced 3D seafloor maps at 10 cm resolution.\"\n",
    "        ),\n",
    "        \"category\": \"technical\"\n",
    "    },\n",
    "]"
   ]
  },
  {
   "cell_type": "code",
   "execution_count": 67,
   "id": "e539ce1b-ca85-4a11-9fa3-9ca0f017237a",
   "metadata": {},
   "outputs": [],
   "source": [
    "to_add = [art for art in new_articles if art['title'] not in existing_titles]\n",
    "\n",
    "df_new = pd.DataFrame(to_add)\n",
    "df_updated = pd.concat([df, df_new], ignore_index=True)"
   ]
  },
  {
   "cell_type": "code",
   "execution_count": 71,
   "id": "e4242e1d-8fa0-4792-9197-a36517985624",
   "metadata": {},
   "outputs": [
    {
     "name": "stdout",
     "output_type": "stream",
     "text": [
      "6\n"
     ]
    }
   ],
   "source": [
    "print(len(to_add))"
   ]
  },
  {
   "cell_type": "code",
   "execution_count": 73,
   "id": "56f3795e-3008-465d-951f-591756747bbe",
   "metadata": {},
   "outputs": [],
   "source": [
    "df_updated[\"category\"] = df_updated[\"category\"].str.strip().str.lower()\n"
   ]
  },
  {
   "cell_type": "raw",
   "id": "321782fd-7a33-4f42-9f82-dd9392defeee",
   "metadata": {},
   "source": [
    "Bu işlemi, kategorilerin doğru şekilde sayılmasını sağlamak amacıyla yaptık. Eğer kategorilerde boşluklar veya farklı harf büyük/küçük kullanımı varsa, bunlar farklı kategoriler olarak kabul edilebilir. Örneğin, \" technical\" (başında boşluk) ile \"technical\" (boşluksuz) iki farklı kategori olarak sayılabilir. Bu nedenle, her iki tarafı da küçük harfe çevirdik ve boşlukları temizledik."
   ]
  },
  {
   "cell_type": "code",
   "execution_count": 74,
   "id": "e5f00225-708b-4f79-8fab-b57d8819a9eb",
   "metadata": {},
   "outputs": [
    {
     "name": "stdout",
     "output_type": "stream",
     "text": [
      "category\n",
      "technical    6\n",
      "Name: count, dtype: int64\n"
     ]
    }
   ],
   "source": [
    "print(df_new[\"category\"].value_counts())  # Should show the distribution of categories in new articles\n"
   ]
  },
  {
   "cell_type": "code",
   "execution_count": 76,
   "id": "eeb2724d-0372-48b0-8efc-f3d7632cbff9",
   "metadata": {},
   "outputs": [
    {
     "name": "stdout",
     "output_type": "stream",
     "text": [
      "category\n",
      "medicine     103\n",
      "technical    100\n",
      "Name: count, dtype: int64\n"
     ]
    }
   ],
   "source": [
    "print(df_updated[\"category\"].value_counts())  # To confirm if category counts have updated correctly\n"
   ]
  },
  {
   "cell_type": "code",
   "execution_count": 77,
   "id": "c9d03ca8-b02e-4667-9470-22aed74572c8",
   "metadata": {},
   "outputs": [
    {
     "data": {
      "text/html": [
       "<div>\n",
       "<style scoped>\n",
       "    .dataframe tbody tr th:only-of-type {\n",
       "        vertical-align: middle;\n",
       "    }\n",
       "\n",
       "    .dataframe tbody tr th {\n",
       "        vertical-align: top;\n",
       "    }\n",
       "\n",
       "    .dataframe thead th {\n",
       "        text-align: right;\n",
       "    }\n",
       "</style>\n",
       "<table border=\"1\" class=\"dataframe\">\n",
       "  <thead>\n",
       "    <tr style=\"text-align: right;\">\n",
       "      <th></th>\n",
       "      <th>title</th>\n",
       "      <th>description</th>\n",
       "      <th>content</th>\n",
       "      <th>category</th>\n",
       "    </tr>\n",
       "  </thead>\n",
       "  <tbody>\n",
       "    <tr>\n",
       "      <th>0</th>\n",
       "      <td>The Tech You Need to Level Up Your Humanity</td>\n",
       "      <td>Advancements in computing and robotics are cha...</td>\n",
       "      <td>Motion capture technology tracks movements in ...</td>\n",
       "      <td>technical</td>\n",
       "    </tr>\n",
       "    <tr>\n",
       "      <th>1</th>\n",
       "      <td>How Software Engineers Actually Use AI</td>\n",
       "      <td>We surveyed 730 coders and developers about ho...</td>\n",
       "      <td>Almost every coder we surveyed had strong opin...</td>\n",
       "      <td>technical</td>\n",
       "    </tr>\n",
       "    <tr>\n",
       "      <th>2</th>\n",
       "      <td>Amazon's AGI Lab Reveals Its First Work: Advan...</td>\n",
       "      <td>Led by a former OpenAI executive, Amazon’s AI ...</td>\n",
       "      <td>Amazon is still seen as a bit of a laggard in ...</td>\n",
       "      <td>technical</td>\n",
       "    </tr>\n",
       "    <tr>\n",
       "      <th>3</th>\n",
       "      <td>How Microsoft made it through 50 years</td>\n",
       "      <td>In 2005, Microsoftâs leaders were starting t...</td>\n",
       "      <td>How Microsoft made it through 50 years\\r\\nThe ...</td>\n",
       "      <td>technical</td>\n",
       "    </tr>\n",
       "    <tr>\n",
       "      <th>4</th>\n",
       "      <td>Logistics giant GXO is going big on humanoid r...</td>\n",
       "      <td>GXO is testing humanoid robots from Agility Ro...</td>\n",
       "      <td>Agility Robotics' Digit robot carries totes in...</td>\n",
       "      <td>technical</td>\n",
       "    </tr>\n",
       "  </tbody>\n",
       "</table>\n",
       "</div>"
      ],
      "text/plain": [
       "                                               title  \\\n",
       "0        The Tech You Need to Level Up Your Humanity   \n",
       "1             How Software Engineers Actually Use AI   \n",
       "2  Amazon's AGI Lab Reveals Its First Work: Advan...   \n",
       "3             How Microsoft made it through 50 years   \n",
       "4  Logistics giant GXO is going big on humanoid r...   \n",
       "\n",
       "                                         description  \\\n",
       "0  Advancements in computing and robotics are cha...   \n",
       "1  We surveyed 730 coders and developers about ho...   \n",
       "2  Led by a former OpenAI executive, Amazon’s AI ...   \n",
       "3  In 2005, Microsoftâs leaders were starting t...   \n",
       "4  GXO is testing humanoid robots from Agility Ro...   \n",
       "\n",
       "                                             content   category  \n",
       "0  Motion capture technology tracks movements in ...  technical  \n",
       "1  Almost every coder we surveyed had strong opin...  technical  \n",
       "2  Amazon is still seen as a bit of a laggard in ...  technical  \n",
       "3  How Microsoft made it through 50 years\\r\\nThe ...  technical  \n",
       "4  Agility Robotics' Digit robot carries totes in...  technical  "
      ]
     },
     "execution_count": 77,
     "metadata": {},
     "output_type": "execute_result"
    }
   ],
   "source": [
    "df.head()"
   ]
  },
  {
   "cell_type": "code",
   "execution_count": 78,
   "id": "e255fde0-0c1e-4d38-9724-1d0a5443fac8",
   "metadata": {},
   "outputs": [],
   "source": [
    "for col in df.select_dtypes(include = 'object').columns:\n",
    "    df[col] = df[col].str.lower()"
   ]
  },
  {
   "cell_type": "code",
   "execution_count": 56,
   "id": "486378e0-fa2b-476e-9051-feac10a3d669",
   "metadata": {},
   "outputs": [
    {
     "data": {
      "text/html": [
       "<div>\n",
       "<style scoped>\n",
       "    .dataframe tbody tr th:only-of-type {\n",
       "        vertical-align: middle;\n",
       "    }\n",
       "\n",
       "    .dataframe tbody tr th {\n",
       "        vertical-align: top;\n",
       "    }\n",
       "\n",
       "    .dataframe thead th {\n",
       "        text-align: right;\n",
       "    }\n",
       "</style>\n",
       "<table border=\"1\" class=\"dataframe\">\n",
       "  <thead>\n",
       "    <tr style=\"text-align: right;\">\n",
       "      <th></th>\n",
       "      <th>title</th>\n",
       "      <th>description</th>\n",
       "      <th>content</th>\n",
       "      <th>category</th>\n",
       "    </tr>\n",
       "  </thead>\n",
       "  <tbody>\n",
       "    <tr>\n",
       "      <th>0</th>\n",
       "      <td>the tech you need to level up your humanity</td>\n",
       "      <td>advancements in computing and robotics are cha...</td>\n",
       "      <td>motion capture technology tracks movements in ...</td>\n",
       "      <td>technical</td>\n",
       "    </tr>\n",
       "    <tr>\n",
       "      <th>1</th>\n",
       "      <td>how software engineers actually use ai</td>\n",
       "      <td>we surveyed 730 coders and developers about ho...</td>\n",
       "      <td>almost every coder we surveyed had strong opin...</td>\n",
       "      <td>technical</td>\n",
       "    </tr>\n",
       "    <tr>\n",
       "      <th>2</th>\n",
       "      <td>amazon's agi lab reveals its first work: advan...</td>\n",
       "      <td>led by a former openai executive, amazon’s ai ...</td>\n",
       "      <td>amazon is still seen as a bit of a laggard in ...</td>\n",
       "      <td>technical</td>\n",
       "    </tr>\n",
       "    <tr>\n",
       "      <th>3</th>\n",
       "      <td>how microsoft made it through 50 years</td>\n",
       "      <td>in 2005, microsoftâs leaders were starting t...</td>\n",
       "      <td>how microsoft made it through 50 years\\r\\nthe ...</td>\n",
       "      <td>technical</td>\n",
       "    </tr>\n",
       "    <tr>\n",
       "      <th>4</th>\n",
       "      <td>logistics giant gxo is going big on humanoid r...</td>\n",
       "      <td>gxo is testing humanoid robots from agility ro...</td>\n",
       "      <td>agility robotics' digit robot carries totes in...</td>\n",
       "      <td>technical</td>\n",
       "    </tr>\n",
       "  </tbody>\n",
       "</table>\n",
       "</div>"
      ],
      "text/plain": [
       "                                               title  \\\n",
       "0        the tech you need to level up your humanity   \n",
       "1             how software engineers actually use ai   \n",
       "2  amazon's agi lab reveals its first work: advan...   \n",
       "3             how microsoft made it through 50 years   \n",
       "4  logistics giant gxo is going big on humanoid r...   \n",
       "\n",
       "                                         description  \\\n",
       "0  advancements in computing and robotics are cha...   \n",
       "1  we surveyed 730 coders and developers about ho...   \n",
       "2  led by a former openai executive, amazon’s ai ...   \n",
       "3  in 2005, microsoftâs leaders were starting t...   \n",
       "4  gxo is testing humanoid robots from agility ro...   \n",
       "\n",
       "                                             content   category  \n",
       "0  motion capture technology tracks movements in ...  technical  \n",
       "1  almost every coder we surveyed had strong opin...  technical  \n",
       "2  amazon is still seen as a bit of a laggard in ...  technical  \n",
       "3  how microsoft made it through 50 years\\r\\nthe ...  technical  \n",
       "4  agility robotics' digit robot carries totes in...  technical  "
      ]
     },
     "execution_count": 56,
     "metadata": {},
     "output_type": "execute_result"
    }
   ],
   "source": [
    "df.head()"
   ]
  },
  {
   "cell_type": "code",
   "execution_count": 79,
   "id": "d2e495da-34d1-4bb7-a533-cd6baa78e497",
   "metadata": {},
   "outputs": [
    {
     "data": {
      "text/html": [
       "<div>\n",
       "<style scoped>\n",
       "    .dataframe tbody tr th:only-of-type {\n",
       "        vertical-align: middle;\n",
       "    }\n",
       "\n",
       "    .dataframe tbody tr th {\n",
       "        vertical-align: top;\n",
       "    }\n",
       "\n",
       "    .dataframe thead th {\n",
       "        text-align: right;\n",
       "    }\n",
       "</style>\n",
       "<table border=\"1\" class=\"dataframe\">\n",
       "  <thead>\n",
       "    <tr style=\"text-align: right;\">\n",
       "      <th></th>\n",
       "      <th>title</th>\n",
       "      <th>description</th>\n",
       "      <th>content</th>\n",
       "      <th>category</th>\n",
       "    </tr>\n",
       "  </thead>\n",
       "  <tbody>\n",
       "    <tr>\n",
       "      <th>0</th>\n",
       "      <td>the tech you need to level up your humanity</td>\n",
       "      <td>advancements in computing and robotics are cha...</td>\n",
       "      <td>motion capture technology tracks movements in ...</td>\n",
       "      <td>technical</td>\n",
       "    </tr>\n",
       "    <tr>\n",
       "      <th>1</th>\n",
       "      <td>how software engineers actually use ai</td>\n",
       "      <td>we surveyed 730 coders and developers about ho...</td>\n",
       "      <td>almost every coder we surveyed had strong opin...</td>\n",
       "      <td>technical</td>\n",
       "    </tr>\n",
       "    <tr>\n",
       "      <th>2</th>\n",
       "      <td>amazon's agi lab reveals its first work: advan...</td>\n",
       "      <td>led by a former openai executive, amazon’s ai ...</td>\n",
       "      <td>amazon is still seen as a bit of a laggard in ...</td>\n",
       "      <td>technical</td>\n",
       "    </tr>\n",
       "    <tr>\n",
       "      <th>3</th>\n",
       "      <td>how microsoft made it through 50 years</td>\n",
       "      <td>in 2005, microsoftâs leaders were starting t...</td>\n",
       "      <td>how microsoft made it through 50 years\\r\\nthe ...</td>\n",
       "      <td>technical</td>\n",
       "    </tr>\n",
       "    <tr>\n",
       "      <th>4</th>\n",
       "      <td>logistics giant gxo is going big on humanoid r...</td>\n",
       "      <td>gxo is testing humanoid robots from agility ro...</td>\n",
       "      <td>agility robotics' digit robot carries totes in...</td>\n",
       "      <td>technical</td>\n",
       "    </tr>\n",
       "    <tr>\n",
       "      <th>...</th>\n",
       "      <td>...</td>\n",
       "      <td>...</td>\n",
       "      <td>...</td>\n",
       "      <td>...</td>\n",
       "    </tr>\n",
       "    <tr>\n",
       "      <th>192</th>\n",
       "      <td>musk and ai among biggest threats to brand rep...</td>\n",
       "      <td>appraisal of international public affairs lead...</td>\n",
       "      <td>associating with the donald trump administrati...</td>\n",
       "      <td>technical</td>\n",
       "    </tr>\n",
       "    <tr>\n",
       "      <th>193</th>\n",
       "      <td>quebec says no special recruitment measures to...</td>\n",
       "      <td>montreal — quebec doesn't plan to create any s...</td>\n",
       "      <td>montreal — quebec doesn't plan to create any s...</td>\n",
       "      <td>medicine</td>\n",
       "    </tr>\n",
       "    <tr>\n",
       "      <th>194</th>\n",
       "      <td>boy, 7, dies after woman 'sends poisoned easte...</td>\n",
       "      <td>the child's mother and 13-year-old sister are ...</td>\n",
       "      <td>our community members are treated to special o...</td>\n",
       "      <td>medicine</td>\n",
       "    </tr>\n",
       "    <tr>\n",
       "      <th>195</th>\n",
       "      <td>ndp wealth tax would raise $94.5b, pay for wor...</td>\n",
       "      <td>the party released its platform saturday, pled...</td>\n",
       "      <td>the new democratic party is promising to raise...</td>\n",
       "      <td>medicine</td>\n",
       "    </tr>\n",
       "    <tr>\n",
       "      <th>196</th>\n",
       "      <td>israeli strikes on gaza kill more than 90 peop...</td>\n",
       "      <td>the dead include women and children sheltering...</td>\n",
       "      <td>israeli strikes in gaza have killed more than ...</td>\n",
       "      <td>medicine</td>\n",
       "    </tr>\n",
       "  </tbody>\n",
       "</table>\n",
       "<p>197 rows × 4 columns</p>\n",
       "</div>"
      ],
      "text/plain": [
       "                                                 title  \\\n",
       "0          the tech you need to level up your humanity   \n",
       "1               how software engineers actually use ai   \n",
       "2    amazon's agi lab reveals its first work: advan...   \n",
       "3               how microsoft made it through 50 years   \n",
       "4    logistics giant gxo is going big on humanoid r...   \n",
       "..                                                 ...   \n",
       "192  musk and ai among biggest threats to brand rep...   \n",
       "193  quebec says no special recruitment measures to...   \n",
       "194  boy, 7, dies after woman 'sends poisoned easte...   \n",
       "195  ndp wealth tax would raise $94.5b, pay for wor...   \n",
       "196  israeli strikes on gaza kill more than 90 peop...   \n",
       "\n",
       "                                           description  \\\n",
       "0    advancements in computing and robotics are cha...   \n",
       "1    we surveyed 730 coders and developers about ho...   \n",
       "2    led by a former openai executive, amazon’s ai ...   \n",
       "3    in 2005, microsoftâs leaders were starting t...   \n",
       "4    gxo is testing humanoid robots from agility ro...   \n",
       "..                                                 ...   \n",
       "192  appraisal of international public affairs lead...   \n",
       "193  montreal — quebec doesn't plan to create any s...   \n",
       "194  the child's mother and 13-year-old sister are ...   \n",
       "195  the party released its platform saturday, pled...   \n",
       "196  the dead include women and children sheltering...   \n",
       "\n",
       "                                               content   category  \n",
       "0    motion capture technology tracks movements in ...  technical  \n",
       "1    almost every coder we surveyed had strong opin...  technical  \n",
       "2    amazon is still seen as a bit of a laggard in ...  technical  \n",
       "3    how microsoft made it through 50 years\\r\\nthe ...  technical  \n",
       "4    agility robotics' digit robot carries totes in...  technical  \n",
       "..                                                 ...        ...  \n",
       "192  associating with the donald trump administrati...  technical  \n",
       "193  montreal — quebec doesn't plan to create any s...   medicine  \n",
       "194  our community members are treated to special o...   medicine  \n",
       "195  the new democratic party is promising to raise...   medicine  \n",
       "196  israeli strikes in gaza have killed more than ...   medicine  \n",
       "\n",
       "[197 rows x 4 columns]"
      ]
     },
     "execution_count": 79,
     "metadata": {},
     "output_type": "execute_result"
    }
   ],
   "source": [
    "df"
   ]
  },
  {
   "cell_type": "code",
   "execution_count": 81,
   "id": "2fd15006-13f3-42c1-a644-459273f844fe",
   "metadata": {},
   "outputs": [],
   "source": [
    "import re"
   ]
  },
  {
   "cell_type": "code",
   "execution_count": 82,
   "id": "0b0b5878-4cb5-4114-bcb2-d2cae14f6264",
   "metadata": {},
   "outputs": [],
   "source": [
    "url_pattern = re.compile(r'https?://\\S+')"
   ]
  },
  {
   "cell_type": "code",
   "execution_count": 87,
   "id": "bc03e651-afc0-4ade-90aa-f4b07d2e9a33",
   "metadata": {},
   "outputs": [],
   "source": [
    "def remove_urls(text):\n",
    "    if isinstance(text, str):\n",
    "        return url_pattern.sub('', text)\n",
    "    return text"
   ]
  },
  {
   "cell_type": "code",
   "execution_count": 89,
   "id": "8fec5d56-8e11-487c-a82a-09a4f0fa2976",
   "metadata": {},
   "outputs": [
    {
     "data": {
      "text/plain": [
       "Index(['title', 'description', 'content', 'category'], dtype='object')"
      ]
     },
     "execution_count": 89,
     "metadata": {},
     "output_type": "execute_result"
    }
   ],
   "source": [
    "df.columns"
   ]
  },
  {
   "cell_type": "code",
   "execution_count": 91,
   "id": "fdbc5bb3-80da-40e2-b167-7fb5b26c9e84",
   "metadata": {},
   "outputs": [],
   "source": [
    "for col in ['title', 'description', 'content', 'category']:\n",
    "    df[col] = df[col].apply(remove_urls)"
   ]
  },
  {
   "cell_type": "markdown",
   "id": "847c83bf-9883-4481-9bfa-89f5e625ad54",
   "metadata": {},
   "source": [
    "# Metni düşük harfe dönüştür:\n",
    "\n",
    "      *  Doğal dildeki kelimeler, büyük ve küçük harfler arasında ayrım yapılarak farklı token'lar olarak kabul edilir. \n",
    "         Örneğin, \"Apple\" ve \"apple\" iki farklı kelime olarak değerlendirilir.\n",
    "      *  Bu durum, metin verisinin boyutunu artırır ve modelin öğrenme sürecini zorlaştırır.\n",
    "      *  Küçük harfe dönüştürme işlemi, tüm kelimeleri tek bir biçimde temsil ederek bu farkları ortadan kaldırır.\n",
    "      Örnek:\n",
    "      \"Apple\" → \"apple\n",
    "\n",
    "# Stop words kaldırma: \n",
    "\n",
    "      *  Stop words, dilde sıkça kullanılan ancak anlam taşıma açısından düşük öneme sahip kelimelerdir \n",
    "        (örneğin: \"the\", \"is\", \"in\").\n",
    "      *  Bu kelimeler, metin verisinin boyutunu artırır ve modelin öğrenme sürecinde \"gürültü\" (noise) oluşturur.\n",
    "      *  Stop words'lerin kaldırılması, metin verisinin daha özlü ve anlamlı hale gelmesini sağlar.\n",
    "        Örnek:\n",
    "         \"The quick brown fox\" → [\"quick\", \"brown\", \"fox\"]​\n",
    "        \n",
    "      *  Neden Önemlidir:\n",
    "         Modelin, metnin anlamını taşıyan kelimelere odaklanmasını sağlar.\n",
    "         Hesaplama maliyetlerini düşürür ve modelin verimliliğini artırır.\n",
    "\n",
    "# Lemmatizasyon/Stemming: \n",
    "\n",
    "        Stemming algoritmaları,\n",
    "      *  Genellikle kurallara dayalıdır ve kelimenin sonundaki belirli ekleri keser.\n",
    "      *  Örneğin, \"running\" → \"run\", \"happiness\" → \"happi\".\n",
    "      *  Bu süreç, kelimenin morfolojik yapısını dikkate almaz ve bu nedenle \"overstemming\" \n",
    "         (gereksiz yere kelimeleri birleştirme) veya \"understemming\" (benzer kelimeleri ayırma) gibi hatalara yol açabilir.\n",
    "\n",
    "        Avantajları:\n",
    "        Hızlı ve basit bir yöntemdir.\n",
    "        Düşük kaynaklarla çalışabilir.\n",
    "\n",
    "        Dezavantajları:\n",
    "        Anlam kaybına yol açabilir.\n",
    "        Dilbilgisel doğruluk sağlamaz\n",
    "\n",
    "       Lemmatizasyon (Kök Sözcük Bulma)\n",
    "     *  Lemmatizasyon, bir kelimenin doğru kök formunu (lemma) bulma işlemidir.\n",
    "     *  Bu işlem, kelimenin anlamını ve bağlamını dikkate alır\n",
    "\n",
    "\n",
    "        Lemmatizasyon, genellikle aşağıdaki adımları içerir:\n",
    "        \n",
    "      ->  Sözcük Türü Etiketleme (POS Tagging): Kelimenin hangi sözcük türüne (isim, fiil, sıfat vb.) ait olduğunu belirleme.\n",
    "      ->  Morfolojik Çözümleme: Kelimenin yapısını analiz ederek kök formunu bulma.\n",
    "      ->  Sözlük Kullanımı: Kelimenin kök formunu belirlemek için bir sözlük veya veritabanı kullanma.​\n",
    "        \n",
    "        Örnek:\n",
    "        \"better\" (sıfat) → \"good\"\n",
    "        \"running\" (fiil) → \"run\"\n",
    "\n",
    "        Avantajları:\n",
    "        Anlam kaybını en aza indirir.\n",
    "        Dilbilgisel doğruluğu sağlar.\n",
    "        \n",
    "        Dezavantajları:\n",
    "        Daha karmaşık ve zaman alıcıdır.\n",
    "        Daha fazla kaynak ve bilgi gerektirir.\n",
    "\n",
    "\n",
    "# Özel karakterler ve sayılar: \n",
    "        Sayılar, noktalama işaretleri gibi unsurları metinden temizlemek.\n"
   ]
  },
  {
   "cell_type": "code",
   "execution_count": 93,
   "id": "8c007e3f-5428-4d3e-ba7f-cdfc4d2b464d",
   "metadata": {},
   "outputs": [
    {
     "name": "stdout",
     "output_type": "stream",
     "text": [
      "['run', 'runner', 'run']\n"
     ]
    }
   ],
   "source": [
    "from nltk.stem import PorterStemmer\n",
    "\n",
    "stemmer = PorterStemmer()\n",
    "kelimeler = [\"running\", \"runner\", \"runs\"]\n",
    "stemmed_kelimeler = [stemmer.stem(kelime) for kelime in kelimeler]\n",
    "print(stemmed_kelimeler)\n",
    "\n"
   ]
  },
  {
   "cell_type": "code",
   "execution_count": 95,
   "id": "b59e4d15-f6b1-4977-8de3-bfc889d81ded",
   "metadata": {},
   "outputs": [
    {
     "name": "stderr",
     "output_type": "stream",
     "text": [
      "[nltk_data] Downloading package wordnet to\n",
      "[nltk_data]     /Users/seherova/nltk_data...\n"
     ]
    },
    {
     "data": {
      "text/plain": [
       "True"
      ]
     },
     "execution_count": 95,
     "metadata": {},
     "output_type": "execute_result"
    }
   ],
   "source": [
    "import nltk\n",
    "nltk.download('wordnet')\n"
   ]
  },
  {
   "cell_type": "code",
   "execution_count": 98,
   "id": "0b6e7131-4e29-4d85-8120-22c155f08fab",
   "metadata": {},
   "outputs": [
    {
     "name": "stdout",
     "output_type": "stream",
     "text": [
      "['run', 'better', 'geese']\n"
     ]
    }
   ],
   "source": [
    "from nltk.stem import WordNetLemmatizer\n",
    "from nltk.corpus import wordnet\n",
    "\n",
    "lemmatizer = WordNetLemmatizer()\n",
    "kelimeler = [\"running\", \"better\", \"geese\"]\n",
    "lemmatized_kelimeler = [lemmatizer.lemmatize(kelime, pos=wordnet.VERB) for kelime in kelimeler]\n",
    "print(lemmatized_kelimeler)\n"
   ]
  },
  {
   "cell_type": "markdown",
   "id": "55d2e057-5488-4e1e-aed4-4aa19c011179",
   "metadata": {},
   "source": [
    "# 1. Non-word ve non-whitespace karakterleri temizleme"
   ]
  },
  {
   "cell_type": "code",
   "execution_count": 4,
   "id": "102d8729-2d7b-4fdf-b9c8-fb4e35d75ced",
   "metadata": {},
   "outputs": [],
   "source": [
    "import re\n",
    "def clear_nonword(text: str) -> str:\n",
    "    # [^\\w\\s] = word ya da whitespace olmayan karakterler\n",
    "    return re.sub(r'[^\\w\\s]', '', text)\n",
    "    "
   ]
  },
  {
   "cell_type": "code",
   "execution_count": 6,
   "id": "ca78437b-495f-49ca-b500-77d191a0eb0c",
   "metadata": {},
   "outputs": [
    {
     "name": "stdout",
     "output_type": "stream",
     "text": [
      "Hello NLP Bu  noisy  bir metin 123\n"
     ]
    }
   ],
   "source": [
    "sample = \"Hello, NLP! Bu %& noisy -- bir metin 123.\"\n",
    "result = clear_nonword(sample)\n",
    "print(result)"
   ]
  },
  {
   "cell_type": "code",
   "execution_count": null,
   "id": "c2379b75-7373-44c9-b2bd-434883ca6216",
   "metadata": {},
   "outputs": [],
   "source": []
  }
 ],
 "metadata": {
  "kernelspec": {
   "display_name": "Python 3 (ipykernel)",
   "language": "python",
   "name": "python3"
  },
  "language_info": {
   "codemirror_mode": {
    "name": "ipython",
    "version": 3
   },
   "file_extension": ".py",
   "mimetype": "text/x-python",
   "name": "python",
   "nbconvert_exporter": "python",
   "pygments_lexer": "ipython3",
   "version": "3.13.2"
  }
 },
 "nbformat": 4,
 "nbformat_minor": 5
}
